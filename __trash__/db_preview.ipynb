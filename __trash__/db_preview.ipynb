{
 "cells": [
  {
   "cell_type": "markdown",
   "metadata": {},
   "source": [
    "# DataBase Preview\n",
    "This document analizes the DataBase \"raw_data_project_m1.db\" included in the folder data. \n",
    "The objetive is previsualize the data that are collected in the database"
   ]
  },
  {
   "cell_type": "markdown",
   "metadata": {},
   "source": [
    "Fist of all, the libraries needed are imported."
   ]
  },
  {
   "cell_type": "code",
   "execution_count": 126,
   "metadata": {},
   "outputs": [],
   "source": [
    "import pandas as pd\n",
    "import sqlalchemy\n",
    "from functools import reduce\n",
    "import json\n",
    "import requests\n",
    "import numpy as np\n"
   ]
  },
  {
   "cell_type": "markdown",
   "metadata": {},
   "source": [
    "# AQUISITION AND CLEANING DATA"
   ]
  },
  {
   "cell_type": "markdown",
   "metadata": {},
   "source": [
    "A connection to the datbase is created, called engine."
   ]
  },
  {
   "cell_type": "code",
   "execution_count": 127,
   "metadata": {},
   "outputs": [],
   "source": [
    "from sqlalchemy import create_engine\n",
    "data_path = '../data/raw_data_project_m1.db'\n",
    "connection = f'sqlite:///{data_path}'\n",
    "\n",
    "engine = create_engine(connection)"
   ]
  },
  {
   "cell_type": "markdown",
   "metadata": {},
   "source": [
    "Let's see what tables are included in the database."
   ]
  },
  {
   "cell_type": "code",
   "execution_count": 128,
   "metadata": {},
   "outputs": [
    {
     "data": {
      "text/html": [
       "<div>\n",
       "<style scoped>\n",
       "    .dataframe tbody tr th:only-of-type {\n",
       "        vertical-align: middle;\n",
       "    }\n",
       "\n",
       "    .dataframe tbody tr th {\n",
       "        vertical-align: top;\n",
       "    }\n",
       "\n",
       "    .dataframe thead th {\n",
       "        text-align: right;\n",
       "    }\n",
       "</style>\n",
       "<table border=\"1\" class=\"dataframe\">\n",
       "  <thead>\n",
       "    <tr style=\"text-align: right;\">\n",
       "      <th></th>\n",
       "      <th>name</th>\n",
       "    </tr>\n",
       "  </thead>\n",
       "  <tbody>\n",
       "    <tr>\n",
       "      <th>0</th>\n",
       "      <td>personal_info</td>\n",
       "    </tr>\n",
       "    <tr>\n",
       "      <th>1</th>\n",
       "      <td>country_info</td>\n",
       "    </tr>\n",
       "    <tr>\n",
       "      <th>2</th>\n",
       "      <td>career_info</td>\n",
       "    </tr>\n",
       "    <tr>\n",
       "      <th>3</th>\n",
       "      <td>poll_info</td>\n",
       "    </tr>\n",
       "  </tbody>\n",
       "</table>\n",
       "</div>"
      ],
      "text/plain": [
       "            name\n",
       "0  personal_info\n",
       "1   country_info\n",
       "2    career_info\n",
       "3      poll_info"
      ]
     },
     "metadata": {},
     "output_type": "display_data"
    }
   ],
   "source": [
    "db_raw = pd.read_sql_query(\"SELECT name FROM sqlite_master WHERE type='table'\", engine)\n",
    "display(db_raw)"
   ]
  },
  {
   "cell_type": "markdown",
   "metadata": {},
   "source": [
    "We can get a list of the name of tables included in the database"
   ]
  },
  {
   "cell_type": "code",
   "execution_count": 129,
   "metadata": {},
   "outputs": [
    {
     "name": "stdout",
     "output_type": "stream",
     "text": [
      "['personal_info', 'country_info', 'career_info', 'poll_info']\n"
     ]
    }
   ],
   "source": [
    "db_raw_list = db_raw.name.tolist()\n",
    "print(db_raw_list)"
   ]
  },
  {
   "cell_type": "markdown",
   "metadata": {},
   "source": [
    "Let's see what is into each dataframe"
   ]
  },
  {
   "cell_type": "markdown",
   "metadata": {},
   "source": [
    "Each daraframe consists of related data in a common column 'uuid'"
   ]
  },
  {
   "cell_type": "code",
   "execution_count": 131,
   "metadata": {},
   "outputs": [
    {
     "data": {
      "text/html": [
       "<div>\n",
       "<style scoped>\n",
       "    .dataframe tbody tr th:only-of-type {\n",
       "        vertical-align: middle;\n",
       "    }\n",
       "\n",
       "    .dataframe tbody tr th {\n",
       "        vertical-align: top;\n",
       "    }\n",
       "\n",
       "    .dataframe thead th {\n",
       "        text-align: right;\n",
       "    }\n",
       "</style>\n",
       "<table border=\"1\" class=\"dataframe\">\n",
       "  <thead>\n",
       "    <tr style=\"text-align: right;\">\n",
       "      <th></th>\n",
       "      <th>uuid</th>\n",
       "      <th>age</th>\n",
       "      <th>gender</th>\n",
       "      <th>dem_has_children</th>\n",
       "      <th>age_group</th>\n",
       "    </tr>\n",
       "  </thead>\n",
       "  <tbody>\n",
       "    <tr>\n",
       "      <th>0</th>\n",
       "      <td>f6e7ee00-deac-0133-4de8-0a81e8b09a82</td>\n",
       "      <td>61 years old</td>\n",
       "      <td>male</td>\n",
       "      <td>NO</td>\n",
       "      <td>40_65</td>\n",
       "    </tr>\n",
       "    <tr>\n",
       "      <th>1</th>\n",
       "      <td>54f0f1c0-dda1-0133-a559-0a81e8b09a82</td>\n",
       "      <td>57 years old</td>\n",
       "      <td>male</td>\n",
       "      <td>yES</td>\n",
       "      <td>40_65</td>\n",
       "    </tr>\n",
       "    <tr>\n",
       "      <th>2</th>\n",
       "      <td>83127080-da3d-0133-c74f-0a81e8b09a82</td>\n",
       "      <td>32 years old</td>\n",
       "      <td>male</td>\n",
       "      <td>nO</td>\n",
       "      <td>26_39</td>\n",
       "    </tr>\n",
       "    <tr>\n",
       "      <th>3</th>\n",
       "      <td>15626d40-db13-0133-ea5c-0a81e8b09a82</td>\n",
       "      <td>45 years old</td>\n",
       "      <td>Male</td>\n",
       "      <td>YES</td>\n",
       "      <td>40_65</td>\n",
       "    </tr>\n",
       "    <tr>\n",
       "      <th>4</th>\n",
       "      <td>24954a70-db98-0133-4a64-0a81e8b09a82</td>\n",
       "      <td>41 years old</td>\n",
       "      <td>Fem</td>\n",
       "      <td>yES</td>\n",
       "      <td>40_65</td>\n",
       "    </tr>\n",
       "    <tr>\n",
       "      <th>...</th>\n",
       "      <td>...</td>\n",
       "      <td>...</td>\n",
       "      <td>...</td>\n",
       "      <td>...</td>\n",
       "      <td>...</td>\n",
       "    </tr>\n",
       "    <tr>\n",
       "      <th>9644</th>\n",
       "      <td>7d1ac020-dcb4-0133-817a-0a81e8b09a82</td>\n",
       "      <td>37 years old</td>\n",
       "      <td>FeMale</td>\n",
       "      <td>nO</td>\n",
       "      <td>26_39</td>\n",
       "    </tr>\n",
       "    <tr>\n",
       "      <th>9645</th>\n",
       "      <td>39f989f0-db52-0133-8482-0a81e8b09a82</td>\n",
       "      <td>53 years old</td>\n",
       "      <td>Male</td>\n",
       "      <td>yES</td>\n",
       "      <td>40_65</td>\n",
       "    </tr>\n",
       "    <tr>\n",
       "      <th>9646</th>\n",
       "      <td>70ce4a90-d965-0133-f5e4-0a81e8b09a82</td>\n",
       "      <td>1992</td>\n",
       "      <td>male</td>\n",
       "      <td>NO</td>\n",
       "      <td>juvenile</td>\n",
       "    </tr>\n",
       "    <tr>\n",
       "      <th>9647</th>\n",
       "      <td>2896e440-db3c-0133-5b67-0a81e8b09a82</td>\n",
       "      <td>47 years old</td>\n",
       "      <td>male</td>\n",
       "      <td>yES</td>\n",
       "      <td>40_65</td>\n",
       "    </tr>\n",
       "    <tr>\n",
       "      <th>9648</th>\n",
       "      <td>06217ba0-dd56-0133-edda-0a81e8b09a82</td>\n",
       "      <td>51 years old</td>\n",
       "      <td>FeMale</td>\n",
       "      <td>YES</td>\n",
       "      <td>40_65</td>\n",
       "    </tr>\n",
       "  </tbody>\n",
       "</table>\n",
       "<p>9649 rows × 5 columns</p>\n",
       "</div>"
      ],
      "text/plain": [
       "                                      uuid           age  gender  \\\n",
       "0     f6e7ee00-deac-0133-4de8-0a81e8b09a82  61 years old    male   \n",
       "1     54f0f1c0-dda1-0133-a559-0a81e8b09a82  57 years old    male   \n",
       "2     83127080-da3d-0133-c74f-0a81e8b09a82  32 years old    male   \n",
       "3     15626d40-db13-0133-ea5c-0a81e8b09a82  45 years old    Male   \n",
       "4     24954a70-db98-0133-4a64-0a81e8b09a82  41 years old     Fem   \n",
       "...                                    ...           ...     ...   \n",
       "9644  7d1ac020-dcb4-0133-817a-0a81e8b09a82  37 years old  FeMale   \n",
       "9645  39f989f0-db52-0133-8482-0a81e8b09a82  53 years old    Male   \n",
       "9646  70ce4a90-d965-0133-f5e4-0a81e8b09a82          1992    male   \n",
       "9647  2896e440-db3c-0133-5b67-0a81e8b09a82  47 years old    male   \n",
       "9648  06217ba0-dd56-0133-edda-0a81e8b09a82  51 years old  FeMale   \n",
       "\n",
       "     dem_has_children age_group  \n",
       "0                  NO     40_65  \n",
       "1                 yES     40_65  \n",
       "2                  nO     26_39  \n",
       "3                 YES     40_65  \n",
       "4                 yES     40_65  \n",
       "...               ...       ...  \n",
       "9644               nO     26_39  \n",
       "9645              yES     40_65  \n",
       "9646               NO  juvenile  \n",
       "9647              yES     40_65  \n",
       "9648              YES     40_65  \n",
       "\n",
       "[9649 rows x 5 columns]"
      ]
     },
     "metadata": {},
     "output_type": "display_data"
    },
    {
     "data": {
      "text/plain": [
       "uuid                object\n",
       "age                 object\n",
       "gender              object\n",
       "dem_has_children    object\n",
       "age_group           object\n",
       "dtype: object"
      ]
     },
     "execution_count": 131,
     "metadata": {},
     "output_type": "execute_result"
    }
   ],
   "source": [
    "# personal_info table\n",
    "df_personal_info = pd.read_sql_query(\"select * from personal_info\", engine)\n",
    "display(df_personal_info)\n",
    "df_personal_info.dtypes"
   ]
  },
  {
   "cell_type": "markdown",
   "metadata": {},
   "source": [
    "The database consists of four tables with different data. A visualization of each one is performed, in order to see the columns, type of data and number of rows."
   ]
  },
  {
   "cell_type": "markdown",
   "metadata": {},
   "source": [
    "The column \"gender\" is important for the analysis, thus let's see it's unique values."
   ]
  },
  {
   "cell_type": "code",
   "execution_count": 132,
   "metadata": {},
   "outputs": [
    {
     "data": {
      "text/plain": [
       "array(['male', 'Male', 'Fem', 'FeMale', 'female'], dtype=object)"
      ]
     },
     "execution_count": 132,
     "metadata": {},
     "output_type": "execute_result"
    }
   ],
   "source": [
    "df_personal_info[\"gender\"].unique()"
   ]
  },
  {
   "cell_type": "markdown",
   "metadata": {},
   "source": [
    "This data should be homogeneos, thus they all are converted in \"Male\" or \"Female\""
   ]
  },
  {
   "cell_type": "code",
   "execution_count": 133,
   "metadata": {},
   "outputs": [
    {
     "data": {
      "text/html": [
       "<div>\n",
       "<style scoped>\n",
       "    .dataframe tbody tr th:only-of-type {\n",
       "        vertical-align: middle;\n",
       "    }\n",
       "\n",
       "    .dataframe tbody tr th {\n",
       "        vertical-align: top;\n",
       "    }\n",
       "\n",
       "    .dataframe thead th {\n",
       "        text-align: right;\n",
       "    }\n",
       "</style>\n",
       "<table border=\"1\" class=\"dataframe\">\n",
       "  <thead>\n",
       "    <tr style=\"text-align: right;\">\n",
       "      <th></th>\n",
       "      <th>uuid</th>\n",
       "      <th>age</th>\n",
       "      <th>gender</th>\n",
       "      <th>dem_has_children</th>\n",
       "      <th>age_group</th>\n",
       "    </tr>\n",
       "  </thead>\n",
       "  <tbody>\n",
       "    <tr>\n",
       "      <th>0</th>\n",
       "      <td>f6e7ee00-deac-0133-4de8-0a81e8b09a82</td>\n",
       "      <td>61 years old</td>\n",
       "      <td>Male</td>\n",
       "      <td>NO</td>\n",
       "      <td>40_65</td>\n",
       "    </tr>\n",
       "    <tr>\n",
       "      <th>1</th>\n",
       "      <td>54f0f1c0-dda1-0133-a559-0a81e8b09a82</td>\n",
       "      <td>57 years old</td>\n",
       "      <td>Male</td>\n",
       "      <td>yES</td>\n",
       "      <td>40_65</td>\n",
       "    </tr>\n",
       "    <tr>\n",
       "      <th>2</th>\n",
       "      <td>83127080-da3d-0133-c74f-0a81e8b09a82</td>\n",
       "      <td>32 years old</td>\n",
       "      <td>Male</td>\n",
       "      <td>nO</td>\n",
       "      <td>26_39</td>\n",
       "    </tr>\n",
       "    <tr>\n",
       "      <th>3</th>\n",
       "      <td>15626d40-db13-0133-ea5c-0a81e8b09a82</td>\n",
       "      <td>45 years old</td>\n",
       "      <td>Male</td>\n",
       "      <td>YES</td>\n",
       "      <td>40_65</td>\n",
       "    </tr>\n",
       "    <tr>\n",
       "      <th>4</th>\n",
       "      <td>24954a70-db98-0133-4a64-0a81e8b09a82</td>\n",
       "      <td>41 years old</td>\n",
       "      <td>Female</td>\n",
       "      <td>yES</td>\n",
       "      <td>40_65</td>\n",
       "    </tr>\n",
       "  </tbody>\n",
       "</table>\n",
       "</div>"
      ],
      "text/plain": [
       "                                   uuid           age  gender  \\\n",
       "0  f6e7ee00-deac-0133-4de8-0a81e8b09a82  61 years old    Male   \n",
       "1  54f0f1c0-dda1-0133-a559-0a81e8b09a82  57 years old    Male   \n",
       "2  83127080-da3d-0133-c74f-0a81e8b09a82  32 years old    Male   \n",
       "3  15626d40-db13-0133-ea5c-0a81e8b09a82  45 years old    Male   \n",
       "4  24954a70-db98-0133-4a64-0a81e8b09a82  41 years old  Female   \n",
       "\n",
       "  dem_has_children age_group  \n",
       "0               NO     40_65  \n",
       "1              yES     40_65  \n",
       "2               nO     26_39  \n",
       "3              YES     40_65  \n",
       "4              yES     40_65  "
      ]
     },
     "metadata": {},
     "output_type": "display_data"
    }
   ],
   "source": [
    "def gender(column_g):\n",
    "    if column_g.startswith('F' or 'f'):\n",
    "        return 'Female'\n",
    "    else:\n",
    "        return 'Male'\n",
    "    \n",
    "df_personal_info['gender'] = df_personal_info.apply(lambda x: gender( x['gender']), axis=1 )\n",
    "display(df_personal_info.head())"
   ]
  },
  {
   "cell_type": "code",
   "execution_count": 134,
   "metadata": {},
   "outputs": [
    {
     "data": {
      "text/html": [
       "<div>\n",
       "<style scoped>\n",
       "    .dataframe tbody tr th:only-of-type {\n",
       "        vertical-align: middle;\n",
       "    }\n",
       "\n",
       "    .dataframe tbody tr th {\n",
       "        vertical-align: top;\n",
       "    }\n",
       "\n",
       "    .dataframe thead th {\n",
       "        text-align: right;\n",
       "    }\n",
       "</style>\n",
       "<table border=\"1\" class=\"dataframe\">\n",
       "  <thead>\n",
       "    <tr style=\"text-align: right;\">\n",
       "      <th></th>\n",
       "      <th>uuid</th>\n",
       "      <th>country_code</th>\n",
       "      <th>rural</th>\n",
       "    </tr>\n",
       "  </thead>\n",
       "  <tbody>\n",
       "    <tr>\n",
       "      <th>0</th>\n",
       "      <td>f6e7ee00-deac-0133-4de8-0a81e8b09a82</td>\n",
       "      <td>AT</td>\n",
       "      <td>countryside</td>\n",
       "    </tr>\n",
       "    <tr>\n",
       "      <th>1</th>\n",
       "      <td>54f0f1c0-dda1-0133-a559-0a81e8b09a82</td>\n",
       "      <td>AT</td>\n",
       "      <td>urban</td>\n",
       "    </tr>\n",
       "    <tr>\n",
       "      <th>2</th>\n",
       "      <td>83127080-da3d-0133-c74f-0a81e8b09a82</td>\n",
       "      <td>AT</td>\n",
       "      <td>city</td>\n",
       "    </tr>\n",
       "    <tr>\n",
       "      <th>3</th>\n",
       "      <td>15626d40-db13-0133-ea5c-0a81e8b09a82</td>\n",
       "      <td>AT</td>\n",
       "      <td>Country</td>\n",
       "    </tr>\n",
       "    <tr>\n",
       "      <th>4</th>\n",
       "      <td>24954a70-db98-0133-4a64-0a81e8b09a82</td>\n",
       "      <td>AT</td>\n",
       "      <td>city</td>\n",
       "    </tr>\n",
       "    <tr>\n",
       "      <th>...</th>\n",
       "      <td>...</td>\n",
       "      <td>...</td>\n",
       "      <td>...</td>\n",
       "    </tr>\n",
       "    <tr>\n",
       "      <th>9644</th>\n",
       "      <td>7d1ac020-dcb4-0133-817a-0a81e8b09a82</td>\n",
       "      <td>SK</td>\n",
       "      <td>urban</td>\n",
       "    </tr>\n",
       "    <tr>\n",
       "      <th>9645</th>\n",
       "      <td>39f989f0-db52-0133-8482-0a81e8b09a82</td>\n",
       "      <td>SK</td>\n",
       "      <td>urban</td>\n",
       "    </tr>\n",
       "    <tr>\n",
       "      <th>9646</th>\n",
       "      <td>70ce4a90-d965-0133-f5e4-0a81e8b09a82</td>\n",
       "      <td>SK</td>\n",
       "      <td>Non-Rural</td>\n",
       "    </tr>\n",
       "    <tr>\n",
       "      <th>9647</th>\n",
       "      <td>2896e440-db3c-0133-5b67-0a81e8b09a82</td>\n",
       "      <td>SK</td>\n",
       "      <td>city</td>\n",
       "    </tr>\n",
       "    <tr>\n",
       "      <th>9648</th>\n",
       "      <td>06217ba0-dd56-0133-edda-0a81e8b09a82</td>\n",
       "      <td>SK</td>\n",
       "      <td>city</td>\n",
       "    </tr>\n",
       "  </tbody>\n",
       "</table>\n",
       "<p>9649 rows × 3 columns</p>\n",
       "</div>"
      ],
      "text/plain": [
       "                                      uuid country_code        rural\n",
       "0     f6e7ee00-deac-0133-4de8-0a81e8b09a82           AT  countryside\n",
       "1     54f0f1c0-dda1-0133-a559-0a81e8b09a82           AT        urban\n",
       "2     83127080-da3d-0133-c74f-0a81e8b09a82           AT         city\n",
       "3     15626d40-db13-0133-ea5c-0a81e8b09a82           AT      Country\n",
       "4     24954a70-db98-0133-4a64-0a81e8b09a82           AT         city\n",
       "...                                    ...          ...          ...\n",
       "9644  7d1ac020-dcb4-0133-817a-0a81e8b09a82           SK        urban\n",
       "9645  39f989f0-db52-0133-8482-0a81e8b09a82           SK        urban\n",
       "9646  70ce4a90-d965-0133-f5e4-0a81e8b09a82           SK    Non-Rural\n",
       "9647  2896e440-db3c-0133-5b67-0a81e8b09a82           SK         city\n",
       "9648  06217ba0-dd56-0133-edda-0a81e8b09a82           SK         city\n",
       "\n",
       "[9649 rows x 3 columns]"
      ]
     },
     "metadata": {},
     "output_type": "display_data"
    },
    {
     "data": {
      "text/plain": [
       "uuid            object\n",
       "country_code    object\n",
       "rural           object\n",
       "dtype: object"
      ]
     },
     "execution_count": 134,
     "metadata": {},
     "output_type": "execute_result"
    }
   ],
   "source": [
    "# country_info table\n",
    "df_country_info = pd.read_sql_query(\"select * from country_info\", engine)\n",
    "display(df_country_info)\n",
    "df_country_info.dtypes"
   ]
  },
  {
   "cell_type": "markdown",
   "metadata": {},
   "source": [
    "This table contains the column 'country_code'. These codes will be replaced by their respective country, getting the data from Eurostat website (web scraping). So let's see which codes are in the column (uniques values)."
   ]
  },
  {
   "cell_type": "code",
   "execution_count": 135,
   "metadata": {},
   "outputs": [
    {
     "data": {
      "text/plain": [
       "array(['AT', 'BE', 'BG', 'CY', 'CZ', 'DE', 'DK', 'EE', 'ES', 'FI', 'FR',\n",
       "       'GB', 'GR', 'HR', 'HU', 'IE', 'IT', 'LT', 'LU', 'LV', 'MT', 'NL',\n",
       "       'PL', 'PT', 'RO', 'SE', 'SI', 'SK'], dtype=object)"
      ]
     },
     "execution_count": 135,
     "metadata": {},
     "output_type": "execute_result"
    }
   ],
   "source": [
    "df_country_info[\"country_code\"].unique()"
   ]
  },
  {
   "cell_type": "code",
   "execution_count": 136,
   "metadata": {},
   "outputs": [
    {
     "data": {
      "text/html": [
       "<div>\n",
       "<style scoped>\n",
       "    .dataframe tbody tr th:only-of-type {\n",
       "        vertical-align: middle;\n",
       "    }\n",
       "\n",
       "    .dataframe tbody tr th {\n",
       "        vertical-align: top;\n",
       "    }\n",
       "\n",
       "    .dataframe thead th {\n",
       "        text-align: right;\n",
       "    }\n",
       "</style>\n",
       "<table border=\"1\" class=\"dataframe\">\n",
       "  <thead>\n",
       "    <tr style=\"text-align: right;\">\n",
       "      <th></th>\n",
       "      <th>uuid</th>\n",
       "      <th>dem_education_level</th>\n",
       "      <th>dem_full_time_job</th>\n",
       "      <th>normalized_job_code</th>\n",
       "    </tr>\n",
       "  </thead>\n",
       "  <tbody>\n",
       "    <tr>\n",
       "      <th>0</th>\n",
       "      <td>f6e7ee00-deac-0133-4de8-0a81e8b09a82</td>\n",
       "      <td>no</td>\n",
       "      <td>no</td>\n",
       "      <td>None</td>\n",
       "    </tr>\n",
       "    <tr>\n",
       "      <th>1</th>\n",
       "      <td>54f0f1c0-dda1-0133-a559-0a81e8b09a82</td>\n",
       "      <td>high</td>\n",
       "      <td>yes</td>\n",
       "      <td>861a9b9151e11362eb3c77ca914172d0</td>\n",
       "    </tr>\n",
       "    <tr>\n",
       "      <th>2</th>\n",
       "      <td>83127080-da3d-0133-c74f-0a81e8b09a82</td>\n",
       "      <td>None</td>\n",
       "      <td>no</td>\n",
       "      <td>None</td>\n",
       "    </tr>\n",
       "    <tr>\n",
       "      <th>3</th>\n",
       "      <td>15626d40-db13-0133-ea5c-0a81e8b09a82</td>\n",
       "      <td>high</td>\n",
       "      <td>yes</td>\n",
       "      <td>049a3f3a2b5f85cb2971ba77ad66e10c</td>\n",
       "    </tr>\n",
       "    <tr>\n",
       "      <th>4</th>\n",
       "      <td>24954a70-db98-0133-4a64-0a81e8b09a82</td>\n",
       "      <td>high</td>\n",
       "      <td>yes</td>\n",
       "      <td>f4b2fb1aa40f661488e2782b6d57ad2f</td>\n",
       "    </tr>\n",
       "    <tr>\n",
       "      <th>...</th>\n",
       "      <td>...</td>\n",
       "      <td>...</td>\n",
       "      <td>...</td>\n",
       "      <td>...</td>\n",
       "    </tr>\n",
       "    <tr>\n",
       "      <th>9644</th>\n",
       "      <td>7d1ac020-dcb4-0133-817a-0a81e8b09a82</td>\n",
       "      <td>high</td>\n",
       "      <td>yes</td>\n",
       "      <td>847165cfda6b1dc82ae22b967da8af2f</td>\n",
       "    </tr>\n",
       "    <tr>\n",
       "      <th>9645</th>\n",
       "      <td>39f989f0-db52-0133-8482-0a81e8b09a82</td>\n",
       "      <td>high</td>\n",
       "      <td>yes</td>\n",
       "      <td>a4d5b8b38f9513825d0d94a981ebe962</td>\n",
       "    </tr>\n",
       "    <tr>\n",
       "      <th>9646</th>\n",
       "      <td>70ce4a90-d965-0133-f5e4-0a81e8b09a82</td>\n",
       "      <td>low</td>\n",
       "      <td>no</td>\n",
       "      <td>None</td>\n",
       "    </tr>\n",
       "    <tr>\n",
       "      <th>9647</th>\n",
       "      <td>2896e440-db3c-0133-5b67-0a81e8b09a82</td>\n",
       "      <td>low</td>\n",
       "      <td>yes</td>\n",
       "      <td>775190277a849cba701b306a7b374c0a</td>\n",
       "    </tr>\n",
       "    <tr>\n",
       "      <th>9648</th>\n",
       "      <td>06217ba0-dd56-0133-edda-0a81e8b09a82</td>\n",
       "      <td>high</td>\n",
       "      <td>yes</td>\n",
       "      <td>8a7a3f1bce0958ae9f090683e5a925b7</td>\n",
       "    </tr>\n",
       "  </tbody>\n",
       "</table>\n",
       "<p>9649 rows × 4 columns</p>\n",
       "</div>"
      ],
      "text/plain": [
       "                                      uuid dem_education_level  \\\n",
       "0     f6e7ee00-deac-0133-4de8-0a81e8b09a82                  no   \n",
       "1     54f0f1c0-dda1-0133-a559-0a81e8b09a82                high   \n",
       "2     83127080-da3d-0133-c74f-0a81e8b09a82                None   \n",
       "3     15626d40-db13-0133-ea5c-0a81e8b09a82                high   \n",
       "4     24954a70-db98-0133-4a64-0a81e8b09a82                high   \n",
       "...                                    ...                 ...   \n",
       "9644  7d1ac020-dcb4-0133-817a-0a81e8b09a82                high   \n",
       "9645  39f989f0-db52-0133-8482-0a81e8b09a82                high   \n",
       "9646  70ce4a90-d965-0133-f5e4-0a81e8b09a82                 low   \n",
       "9647  2896e440-db3c-0133-5b67-0a81e8b09a82                 low   \n",
       "9648  06217ba0-dd56-0133-edda-0a81e8b09a82                high   \n",
       "\n",
       "     dem_full_time_job               normalized_job_code  \n",
       "0                   no                              None  \n",
       "1                  yes  861a9b9151e11362eb3c77ca914172d0  \n",
       "2                   no                              None  \n",
       "3                  yes  049a3f3a2b5f85cb2971ba77ad66e10c  \n",
       "4                  yes  f4b2fb1aa40f661488e2782b6d57ad2f  \n",
       "...                ...                               ...  \n",
       "9644               yes  847165cfda6b1dc82ae22b967da8af2f  \n",
       "9645               yes  a4d5b8b38f9513825d0d94a981ebe962  \n",
       "9646                no                              None  \n",
       "9647               yes  775190277a849cba701b306a7b374c0a  \n",
       "9648               yes  8a7a3f1bce0958ae9f090683e5a925b7  \n",
       "\n",
       "[9649 rows x 4 columns]"
      ]
     },
     "metadata": {},
     "output_type": "display_data"
    },
    {
     "data": {
      "text/plain": [
       "uuid                   object\n",
       "dem_education_level    object\n",
       "dem_full_time_job      object\n",
       "normalized_job_code    object\n",
       "dtype: object"
      ]
     },
     "execution_count": 136,
     "metadata": {},
     "output_type": "execute_result"
    }
   ],
   "source": [
    "# career_info table\n",
    "df_career_info = pd.read_sql_query(\"select * from career_info\", engine)\n",
    "display(df_career_info)\n",
    "df_career_info.dtypes"
   ]
  },
  {
   "cell_type": "markdown",
   "metadata": {},
   "source": [
    "This table contains the column 'normalized_job_code'. These codes will be replaced by their respective job name, getting the data using the API from the Open Skills Project. So let's see which codes are in the column (uniques values)."
   ]
  },
  {
   "cell_type": "code",
   "execution_count": 137,
   "metadata": {},
   "outputs": [
    {
     "name": "stdout",
     "output_type": "stream",
     "text": [
      "[None, '861a9b9151e11362eb3c77ca914172d0', '049a3f3a2b5f85cb2971ba77ad66e10c', 'f4b2fb1aa40f661488e2782b6d57ad2f', '27af8700f5577cec835acee2cb90a2ff', 'c1b670eba9ccb65e7c99f7da116d5b9c', 'd71c4164c99a5f9bca773e755a72f40f', '2ee80cf30e2483dfe0947adc0428f8c5', '897ef18a9321616495831a4b4b0c1bb2', 'a003702c0cea282e17967772dd83de5e', '04c82eae29e1c4a30eac0710b74ab276', 'fcaf4aac737e53ad24b9f32f08b8740f', '3833bd699e7afe4665b595f282da0387', '19e384e977796c25780d8c28b12089c4', '474b962c13632a04e42a546be4f11dbb', 'dac2e921c1f887d9efc4c06fa33c1397', '996da29c84f5eed00da40c230f4c4078', 'cc2b26cc436bea36bda3bdd7367c411a', '25fe195cbf915c0824fa6c44e6d0008c', '76385cb24e831b3364279b9de5641d8f', '16b67d7f57698455aefbc1ae1b358b50', 'b24ece3300d2f8ab34f9553e531183d6', '5db2c8d6539f983e1ca3d7c5b939e190', '36675c937946c8a4fc5de7d0b4c850de', '847165cfda6b1dc82ae22b967da8af2f', '2ca138b991c50dc6696238e5ad800142', '775190277a849cba701b306a7b374c0a', '022d0e3a40aa3e29bca6851542b27842', '375017ea3a1a97f5ea676def873bb25b', '1dd2fdc8a3981f2a1d8f0ca173952bb8', 'e605336f5a43949cb6b18054fd1937f1', '800b621aab5dac18f4caef621fa43a49', 'd06dfb43c95b585a89ae556c9221b573', 'a12a16280e22220f9354333f6fe1b22a', '477b53ef09d37f098d5ed74f47fcbaec', 'e2f68bf748aea2c7d2254550c0c92b23', '45033f83b6e0309eca9bcd76917f15d0', '141ddda0f613da65a280521247de0e9f', '3ddea1b52e520996e4ec9fb70dc8b86b', '6408c0d7c7faa4ced47fbc8474698126', '07b7555fa790debaf5b04d1409ad5f11', 'a4d5b8b38f9513825d0d94a981ebe962', '5e93fd1a58c8a67b295f69d87d1a940d', '122f24bc911a79c26ca66210557dda07', '76b0ba6af40991629e20dff36edd02a5', '970eb38c7b3eb080466052ea994af189', 'cf2d4db3c258faa2499bdeeeed6721a5', '90c5430dbc810aec8695af2f1f4c42e8', '7bb15eefb19ed09c59349baad7e8469e', 'ec3d88b2fd083b870b8c5a603898ed39', '1f8576bdffa64f492405d02b842c41a6', 'edc64316da9707432443c7a4461abe6c', '6cf4d336112984368f83181ac5ffe948', 'd4624ed8068d24948e18303212593cd6', '1a281bf4bd1fe9b2a6e464e508bea167', '2f704538f6c9d6459a97314be98124e2', '3161063d378eecc4581c5cdee46a2a6c', '781f5d3a80812531fdc81125a527a626', '38a15ceadcdd6d4db16a88fa1a72b083', 'e55556364d2096578fd153e9800e826f', 'd24ffac92c24fb0e7bd1abc5fc3b6254', 'ccd7528fb38f16077360c5b67c9700c4', 'f6fbd9dea1fa8f899683ade8e7d87d60', '0de6170ccbed08e62b2e5862d5846a43', '499f9d9b6722342608656559b15abd90', '8a7a3f1bce0958ae9f090683e5a925b7', '7acaed29536648e45ea2b82d45047fcf', '02e4c028f64f176de2f54bbc2f5403ce', '569da68cdcac43a3b4a0126ea9170570', 'ced804d972b03cca6d523ec8925a7943', '41b2978a2c07c5f477e60f26372d6c85', 'd9e964a222fdd9527319ad88adbfaa2e', 'ac47656fd51c2cd8037057262c910dc4', 'e49986dae76619a3941d280ee14d38ae', 'f842344417ed2fc226d9cc00f9562458', '096536ec43ce2a7de73031b271a1c132', 'a33662485eb4ad97096183db945308f4', '4f75f97ac5b5f00f9420074d501f0803', 'f36c6ada3a808453a0bf241c74a4e994', '41ba88cfd476ee8d5e3d9f7cea62f051', '894ca61c22718617c7e2404f582153da', '34d80517fe3bc143f9fc850386b8ffd7', 'e7b3e1c6a32c7247cd4857e4c3574165', '36ac256201657eeaa67ee95aaae3cd54', 'bc6dcc49557388a9f53d6e642e73d7a2', '00bff17fca67555d8d86e8ead86dcd70', 'b42566382f2d3deeca56d3667004fc9e', '7932d4705d002b47789c11edfaed685e', 'aee597cd78f235c9db9d3ca987c7c846', '1c37a6e2bf157c0eff4665c57c52602d', '46b09f5f86f1ed46a8cb8e14d41418c7', 'a2a9fbe67b4aa2b551ba0f3adac90a99', '77d124811ae6887bd4ff42b0e2b49116', 'f05d2014d4a9adaab50fa1e0ca6f6c8c', 'ac2588d5d7676a49bdcd038e4a0a0ec5', '2173ff3afd8d28192f7cf119af201940', 'f5bc91b67dc30ad204158092116c4ed2', '433df1b945d32f17d9e61cf60a9bd06e', '1295a187473fd2f53427769fc7a4c02e', '004431b0c1ce29ff6145307fa23f3f98', '8fd068c8d9be73abfa678856177b6c40', 'c34f03aa0a9c6edbe8ec50f4fa3687a8', '7aecc34a90868aac810bf3693b11534e', '086f0063610283d1c23c44bca4ef92c0', '16b49a63ac3fcb90356c30187110ed94', '437e4414c78611a270a5cedb4b4c0eed', '679fb7003e0aedc14891fcd15dd846c5', '7a37ddb38441873334fd8ff07c17ad22', '58eaf730050d2e23c7361fbb782e30a2', 'd0abc47e83e7d85921e113f85175547a', '73d251075a710326ae436d9819246377', '5e2bfe1fb8451158ff488c673535980c', 'ac9f868b5c3e7cb3f31bcead5dadeb71', 'f670246beda8187fbe875401e7bc4ba6', '0044971fda4a261b6049a63817913e95', 'b36bc5f02fd641a126df999bcefa2777', '067c85859a63aa6f1c8c936904124dd6', '491d82be40d8395e347f9584124bccdd', '7028f15ad274cb4d9505101b9c1306b1', 'fd69391dc29c83d5ad744daa57de0175', '3def30a9bc4356164176ba909f40bab8', '132aa9e82c5d4c8a395342d0a6e22c5c', '07b2ace822aff5d35dcf5ea264ef3b59', 'f8984e50675cf61e5ac1ea8f661e0ab2', 'd329d187dafb7546061ec7fbf137a2b4', 'd63e35f948115e0c328a49db7bdb6e59', 'bf7f43295d45cdced048c8126f977b6b', '6bf4290b983d58ce153af610008846c9', 'f1fc61f279e3ad14863e582ca6fdc473', '31bf3181813e21ffdfd76b5881fab066', '04b0eaf624b2deb45ccd62cf6ec7c7bc', '2616d64becb4f2c478dd42f501bbfbff', '776bf47111206d31ccf835650e1054cc', 'c3b5ebd7b88c20786f11e87846c7d6ae', 'dfea9e8bc3c565ff9e64d4288b1c423d', 'a50d1f4be063829950e6ddb02c91379f', 'af6630abd24c19f77cfba94aa4e3b7e1', '901740e84d1a4760e440b039adac9df2', 'f2ecf36d7eb0a4225974fc6c4f48cfcb', 'f1fb62e4c97f4f5cd5001877cb94379e', 'b9a57264eaada670703db113483ddfc3', '65b92572bca68ff9c49c930749fa348c', '59dab7d0a3ee97d939aa8b1a8deec857', 'afea0e0169a98ee264db2ddb1c6e6a34', '0facaffe51cc1998a5fbdbe5fd18fd98', 'ccf2c4daae069f054cada4c911819a17', '1426c924e1b6b162f6bfdd1906d98d0e', 'eb3d789747d52df803ce63fe37bf53e9', 'bdf4dcd92089bc17345de83f4d06090f', '5285758deb04c98f58cbae2747195f33', '04c27c76b463a917800549cf88a59961', '631bc3a12ed11340fc94ebfffa8f5f4e', 'b0fa6ede410f50b82ab74f5a705fe699', '559a21f836c93876f31b60e6d10656a7', 'c1fb1a01b78373ac2153c66fa08d16dc', '05bb9a333a66d6eb151e253623efe1c0', '4cee16550636e292b8d136486fce943b']\n"
     ]
    }
   ],
   "source": [
    "job_codes = df_career_info[\"normalized_job_code\"].unique()\n",
    "list_job_codes = job_codes.tolist()\n",
    "print(list_job_codes)"
   ]
  },
  {
   "cell_type": "code",
   "execution_count": null,
   "metadata": {},
   "outputs": [],
   "source": [
    "The codes have been included in a list, to use it later. The first element (None), is deleted to avoid troubles."
   ]
  },
  {
   "cell_type": "code",
   "execution_count": 154,
   "metadata": {},
   "outputs": [
    {
     "data": {
      "text/plain": [
       "156"
      ]
     },
     "execution_count": 154,
     "metadata": {},
     "output_type": "execute_result"
    }
   ],
   "source": [
    "#del list_job_codes[0]\n",
    "list_job_codes = [x for x in list_job_codes if x is not None]\n",
    "#list_job_codes = list_job_codes.remove('None')\n",
    "len(list_job_codes)"
   ]
  },
  {
   "cell_type": "code",
   "execution_count": 139,
   "metadata": {},
   "outputs": [
    {
     "data": {
      "text/html": [
       "<div>\n",
       "<style scoped>\n",
       "    .dataframe tbody tr th:only-of-type {\n",
       "        vertical-align: middle;\n",
       "    }\n",
       "\n",
       "    .dataframe tbody tr th {\n",
       "        vertical-align: top;\n",
       "    }\n",
       "\n",
       "    .dataframe thead th {\n",
       "        text-align: right;\n",
       "    }\n",
       "</style>\n",
       "<table border=\"1\" class=\"dataframe\">\n",
       "  <thead>\n",
       "    <tr style=\"text-align: right;\">\n",
       "      <th></th>\n",
       "      <th>uuid</th>\n",
       "      <th>question_bbi_2016wave4_basicincome_awareness</th>\n",
       "      <th>question_bbi_2016wave4_basicincome_vote</th>\n",
       "      <th>question_bbi_2016wave4_basicincome_effect</th>\n",
       "      <th>question_bbi_2016wave4_basicincome_argumentsfor</th>\n",
       "      <th>question_bbi_2016wave4_basicincome_argumentsagainst</th>\n",
       "    </tr>\n",
       "  </thead>\n",
       "  <tbody>\n",
       "    <tr>\n",
       "      <th>0</th>\n",
       "      <td>f6e7ee00-deac-0133-4de8-0a81e8b09a82</td>\n",
       "      <td>I know something about it</td>\n",
       "      <td>I would not vote</td>\n",
       "      <td>None of the above</td>\n",
       "      <td>None of the above</td>\n",
       "      <td>None of the above</td>\n",
       "    </tr>\n",
       "    <tr>\n",
       "      <th>1</th>\n",
       "      <td>54f0f1c0-dda1-0133-a559-0a81e8b09a82</td>\n",
       "      <td>I understand it fully</td>\n",
       "      <td>I would probably vote for it</td>\n",
       "      <td>A basic income would not affect my work choices</td>\n",
       "      <td>It increases appreciation for household work a...</td>\n",
       "      <td>It might encourage people to stop working</td>\n",
       "    </tr>\n",
       "    <tr>\n",
       "      <th>2</th>\n",
       "      <td>83127080-da3d-0133-c74f-0a81e8b09a82</td>\n",
       "      <td>I have heard just a little about it</td>\n",
       "      <td>I would not vote</td>\n",
       "      <td>‰Û_ gain additional skills</td>\n",
       "      <td>It creates more equality of opportunity</td>\n",
       "      <td>Foreigners might come to my country and take a...</td>\n",
       "    </tr>\n",
       "    <tr>\n",
       "      <th>3</th>\n",
       "      <td>15626d40-db13-0133-ea5c-0a81e8b09a82</td>\n",
       "      <td>I have heard just a little about it</td>\n",
       "      <td>I would probably vote for it</td>\n",
       "      <td>‰Û_ work less</td>\n",
       "      <td>It reduces anxiety about financing basic needs</td>\n",
       "      <td>None of the above</td>\n",
       "    </tr>\n",
       "    <tr>\n",
       "      <th>4</th>\n",
       "      <td>24954a70-db98-0133-4a64-0a81e8b09a82</td>\n",
       "      <td>I have heard just a little about it</td>\n",
       "      <td>I would probably vote for it</td>\n",
       "      <td>None of the above</td>\n",
       "      <td>It reduces anxiety about financing basic needs</td>\n",
       "      <td>It is impossible to finance | It might encoura...</td>\n",
       "    </tr>\n",
       "    <tr>\n",
       "      <th>...</th>\n",
       "      <td>...</td>\n",
       "      <td>...</td>\n",
       "      <td>...</td>\n",
       "      <td>...</td>\n",
       "      <td>...</td>\n",
       "      <td>...</td>\n",
       "    </tr>\n",
       "    <tr>\n",
       "      <th>9644</th>\n",
       "      <td>7d1ac020-dcb4-0133-817a-0a81e8b09a82</td>\n",
       "      <td>I understand it fully</td>\n",
       "      <td>I would probably vote for it</td>\n",
       "      <td>‰Û_ spend more time with my family</td>\n",
       "      <td>It reduces bureaucracy and administrative expe...</td>\n",
       "      <td>It is impossible to finance</td>\n",
       "    </tr>\n",
       "    <tr>\n",
       "      <th>9645</th>\n",
       "      <td>39f989f0-db52-0133-8482-0a81e8b09a82</td>\n",
       "      <td>I have never heard of it</td>\n",
       "      <td>I would probably vote against it</td>\n",
       "      <td>A basic income would not affect my work choices</td>\n",
       "      <td>It reduces bureaucracy and administrative expe...</td>\n",
       "      <td>It might encourage people to stop working | On...</td>\n",
       "    </tr>\n",
       "    <tr>\n",
       "      <th>9646</th>\n",
       "      <td>70ce4a90-d965-0133-f5e4-0a81e8b09a82</td>\n",
       "      <td>I have heard just a little about it</td>\n",
       "      <td>I would not vote</td>\n",
       "      <td>‰Û_ spend more time with my family</td>\n",
       "      <td>It reduces anxiety about financing basic needs</td>\n",
       "      <td>None of the above</td>\n",
       "    </tr>\n",
       "    <tr>\n",
       "      <th>9647</th>\n",
       "      <td>2896e440-db3c-0133-5b67-0a81e8b09a82</td>\n",
       "      <td>I understand it fully</td>\n",
       "      <td>I would vote for it</td>\n",
       "      <td>A basic income would not affect my work choices</td>\n",
       "      <td>It reduces bureaucracy and administrative expe...</td>\n",
       "      <td>Foreigners might come to my country and take a...</td>\n",
       "    </tr>\n",
       "    <tr>\n",
       "      <th>9648</th>\n",
       "      <td>06217ba0-dd56-0133-edda-0a81e8b09a82</td>\n",
       "      <td>I understand it fully</td>\n",
       "      <td>I would vote against it</td>\n",
       "      <td>A basic income would not affect my work choices</td>\n",
       "      <td>It reduces bureaucracy and administrative expe...</td>\n",
       "      <td>It might encourage people to stop working | It...</td>\n",
       "    </tr>\n",
       "  </tbody>\n",
       "</table>\n",
       "<p>9649 rows × 6 columns</p>\n",
       "</div>"
      ],
      "text/plain": [
       "                                      uuid  \\\n",
       "0     f6e7ee00-deac-0133-4de8-0a81e8b09a82   \n",
       "1     54f0f1c0-dda1-0133-a559-0a81e8b09a82   \n",
       "2     83127080-da3d-0133-c74f-0a81e8b09a82   \n",
       "3     15626d40-db13-0133-ea5c-0a81e8b09a82   \n",
       "4     24954a70-db98-0133-4a64-0a81e8b09a82   \n",
       "...                                    ...   \n",
       "9644  7d1ac020-dcb4-0133-817a-0a81e8b09a82   \n",
       "9645  39f989f0-db52-0133-8482-0a81e8b09a82   \n",
       "9646  70ce4a90-d965-0133-f5e4-0a81e8b09a82   \n",
       "9647  2896e440-db3c-0133-5b67-0a81e8b09a82   \n",
       "9648  06217ba0-dd56-0133-edda-0a81e8b09a82   \n",
       "\n",
       "     question_bbi_2016wave4_basicincome_awareness  \\\n",
       "0                       I know something about it   \n",
       "1                           I understand it fully   \n",
       "2             I have heard just a little about it   \n",
       "3             I have heard just a little about it   \n",
       "4             I have heard just a little about it   \n",
       "...                                           ...   \n",
       "9644                        I understand it fully   \n",
       "9645                     I have never heard of it   \n",
       "9646          I have heard just a little about it   \n",
       "9647                        I understand it fully   \n",
       "9648                        I understand it fully   \n",
       "\n",
       "     question_bbi_2016wave4_basicincome_vote  \\\n",
       "0                           I would not vote   \n",
       "1               I would probably vote for it   \n",
       "2                           I would not vote   \n",
       "3               I would probably vote for it   \n",
       "4               I would probably vote for it   \n",
       "...                                      ...   \n",
       "9644            I would probably vote for it   \n",
       "9645        I would probably vote against it   \n",
       "9646                        I would not vote   \n",
       "9647                     I would vote for it   \n",
       "9648                 I would vote against it   \n",
       "\n",
       "            question_bbi_2016wave4_basicincome_effect  \\\n",
       "0                                   None of the above   \n",
       "1     A basic income would not affect my work choices   \n",
       "2                          ‰Û_ gain additional skills   \n",
       "3                                       ‰Û_ work less   \n",
       "4                                   None of the above   \n",
       "...                                               ...   \n",
       "9644               ‰Û_ spend more time with my family   \n",
       "9645  A basic income would not affect my work choices   \n",
       "9646               ‰Û_ spend more time with my family   \n",
       "9647  A basic income would not affect my work choices   \n",
       "9648  A basic income would not affect my work choices   \n",
       "\n",
       "        question_bbi_2016wave4_basicincome_argumentsfor  \\\n",
       "0                                     None of the above   \n",
       "1     It increases appreciation for household work a...   \n",
       "2               It creates more equality of opportunity   \n",
       "3        It reduces anxiety about financing basic needs   \n",
       "4        It reduces anxiety about financing basic needs   \n",
       "...                                                 ...   \n",
       "9644  It reduces bureaucracy and administrative expe...   \n",
       "9645  It reduces bureaucracy and administrative expe...   \n",
       "9646     It reduces anxiety about financing basic needs   \n",
       "9647  It reduces bureaucracy and administrative expe...   \n",
       "9648  It reduces bureaucracy and administrative expe...   \n",
       "\n",
       "     question_bbi_2016wave4_basicincome_argumentsagainst  \n",
       "0                                     None of the above   \n",
       "1             It might encourage people to stop working   \n",
       "2     Foreigners might come to my country and take a...   \n",
       "3                                     None of the above   \n",
       "4     It is impossible to finance | It might encoura...   \n",
       "...                                                 ...   \n",
       "9644                        It is impossible to finance   \n",
       "9645  It might encourage people to stop working | On...   \n",
       "9646                                  None of the above   \n",
       "9647  Foreigners might come to my country and take a...   \n",
       "9648  It might encourage people to stop working | It...   \n",
       "\n",
       "[9649 rows x 6 columns]"
      ]
     },
     "metadata": {},
     "output_type": "display_data"
    },
    {
     "data": {
      "text/plain": [
       "uuid                                                   object\n",
       "question_bbi_2016wave4_basicincome_awareness           object\n",
       "question_bbi_2016wave4_basicincome_vote                object\n",
       "question_bbi_2016wave4_basicincome_effect              object\n",
       "question_bbi_2016wave4_basicincome_argumentsfor        object\n",
       "question_bbi_2016wave4_basicincome_argumentsagainst    object\n",
       "dtype: object"
      ]
     },
     "execution_count": 139,
     "metadata": {},
     "output_type": "execute_result"
    }
   ],
   "source": [
    "# poll_info table\n",
    "df_poll_info = pd.read_sql_query(\"select * from poll_info\", engine)\n",
    "display(df_poll_info)\n",
    "df_poll_info.dtypes"
   ]
  },
  {
   "cell_type": "markdown",
   "metadata": {},
   "source": [
    "The column uuid is common in the four tables. They can be joined together in an unique table by that column."
   ]
  },
  {
   "cell_type": "code",
   "execution_count": 140,
   "metadata": {},
   "outputs": [
    {
     "data": {
      "text/html": [
       "<div>\n",
       "<style scoped>\n",
       "    .dataframe tbody tr th:only-of-type {\n",
       "        vertical-align: middle;\n",
       "    }\n",
       "\n",
       "    .dataframe tbody tr th {\n",
       "        vertical-align: top;\n",
       "    }\n",
       "\n",
       "    .dataframe thead th {\n",
       "        text-align: right;\n",
       "    }\n",
       "</style>\n",
       "<table border=\"1\" class=\"dataframe\">\n",
       "  <thead>\n",
       "    <tr style=\"text-align: right;\">\n",
       "      <th></th>\n",
       "      <th>uuid</th>\n",
       "      <th>age</th>\n",
       "      <th>gender</th>\n",
       "      <th>dem_has_children</th>\n",
       "      <th>age_group</th>\n",
       "      <th>country_code</th>\n",
       "      <th>rural</th>\n",
       "      <th>dem_education_level</th>\n",
       "      <th>dem_full_time_job</th>\n",
       "      <th>normalized_job_code</th>\n",
       "      <th>question_bbi_2016wave4_basicincome_awareness</th>\n",
       "      <th>question_bbi_2016wave4_basicincome_vote</th>\n",
       "      <th>question_bbi_2016wave4_basicincome_effect</th>\n",
       "      <th>question_bbi_2016wave4_basicincome_argumentsfor</th>\n",
       "      <th>question_bbi_2016wave4_basicincome_argumentsagainst</th>\n",
       "    </tr>\n",
       "  </thead>\n",
       "  <tbody>\n",
       "    <tr>\n",
       "      <th>0</th>\n",
       "      <td>f6e7ee00-deac-0133-4de8-0a81e8b09a82</td>\n",
       "      <td>61 years old</td>\n",
       "      <td>Male</td>\n",
       "      <td>NO</td>\n",
       "      <td>40_65</td>\n",
       "      <td>AT</td>\n",
       "      <td>countryside</td>\n",
       "      <td>no</td>\n",
       "      <td>no</td>\n",
       "      <td>None</td>\n",
       "      <td>I know something about it</td>\n",
       "      <td>I would not vote</td>\n",
       "      <td>None of the above</td>\n",
       "      <td>None of the above</td>\n",
       "      <td>None of the above</td>\n",
       "    </tr>\n",
       "    <tr>\n",
       "      <th>1</th>\n",
       "      <td>54f0f1c0-dda1-0133-a559-0a81e8b09a82</td>\n",
       "      <td>57 years old</td>\n",
       "      <td>Male</td>\n",
       "      <td>yES</td>\n",
       "      <td>40_65</td>\n",
       "      <td>AT</td>\n",
       "      <td>urban</td>\n",
       "      <td>high</td>\n",
       "      <td>yes</td>\n",
       "      <td>861a9b9151e11362eb3c77ca914172d0</td>\n",
       "      <td>I understand it fully</td>\n",
       "      <td>I would probably vote for it</td>\n",
       "      <td>A basic income would not affect my work choices</td>\n",
       "      <td>It increases appreciation for household work a...</td>\n",
       "      <td>It might encourage people to stop working</td>\n",
       "    </tr>\n",
       "    <tr>\n",
       "      <th>2</th>\n",
       "      <td>83127080-da3d-0133-c74f-0a81e8b09a82</td>\n",
       "      <td>32 years old</td>\n",
       "      <td>Male</td>\n",
       "      <td>nO</td>\n",
       "      <td>26_39</td>\n",
       "      <td>AT</td>\n",
       "      <td>city</td>\n",
       "      <td>None</td>\n",
       "      <td>no</td>\n",
       "      <td>None</td>\n",
       "      <td>I have heard just a little about it</td>\n",
       "      <td>I would not vote</td>\n",
       "      <td>‰Û_ gain additional skills</td>\n",
       "      <td>It creates more equality of opportunity</td>\n",
       "      <td>Foreigners might come to my country and take a...</td>\n",
       "    </tr>\n",
       "    <tr>\n",
       "      <th>3</th>\n",
       "      <td>15626d40-db13-0133-ea5c-0a81e8b09a82</td>\n",
       "      <td>45 years old</td>\n",
       "      <td>Male</td>\n",
       "      <td>YES</td>\n",
       "      <td>40_65</td>\n",
       "      <td>AT</td>\n",
       "      <td>Country</td>\n",
       "      <td>high</td>\n",
       "      <td>yes</td>\n",
       "      <td>049a3f3a2b5f85cb2971ba77ad66e10c</td>\n",
       "      <td>I have heard just a little about it</td>\n",
       "      <td>I would probably vote for it</td>\n",
       "      <td>‰Û_ work less</td>\n",
       "      <td>It reduces anxiety about financing basic needs</td>\n",
       "      <td>None of the above</td>\n",
       "    </tr>\n",
       "    <tr>\n",
       "      <th>4</th>\n",
       "      <td>24954a70-db98-0133-4a64-0a81e8b09a82</td>\n",
       "      <td>41 years old</td>\n",
       "      <td>Female</td>\n",
       "      <td>yES</td>\n",
       "      <td>40_65</td>\n",
       "      <td>AT</td>\n",
       "      <td>city</td>\n",
       "      <td>high</td>\n",
       "      <td>yes</td>\n",
       "      <td>f4b2fb1aa40f661488e2782b6d57ad2f</td>\n",
       "      <td>I have heard just a little about it</td>\n",
       "      <td>I would probably vote for it</td>\n",
       "      <td>None of the above</td>\n",
       "      <td>It reduces anxiety about financing basic needs</td>\n",
       "      <td>It is impossible to finance | It might encoura...</td>\n",
       "    </tr>\n",
       "  </tbody>\n",
       "</table>\n",
       "</div>"
      ],
      "text/plain": [
       "                                   uuid           age  gender  \\\n",
       "0  f6e7ee00-deac-0133-4de8-0a81e8b09a82  61 years old    Male   \n",
       "1  54f0f1c0-dda1-0133-a559-0a81e8b09a82  57 years old    Male   \n",
       "2  83127080-da3d-0133-c74f-0a81e8b09a82  32 years old    Male   \n",
       "3  15626d40-db13-0133-ea5c-0a81e8b09a82  45 years old    Male   \n",
       "4  24954a70-db98-0133-4a64-0a81e8b09a82  41 years old  Female   \n",
       "\n",
       "  dem_has_children age_group country_code        rural dem_education_level  \\\n",
       "0               NO     40_65           AT  countryside                  no   \n",
       "1              yES     40_65           AT        urban                high   \n",
       "2               nO     26_39           AT         city                None   \n",
       "3              YES     40_65           AT      Country                high   \n",
       "4              yES     40_65           AT         city                high   \n",
       "\n",
       "  dem_full_time_job               normalized_job_code  \\\n",
       "0                no                              None   \n",
       "1               yes  861a9b9151e11362eb3c77ca914172d0   \n",
       "2                no                              None   \n",
       "3               yes  049a3f3a2b5f85cb2971ba77ad66e10c   \n",
       "4               yes  f4b2fb1aa40f661488e2782b6d57ad2f   \n",
       "\n",
       "  question_bbi_2016wave4_basicincome_awareness  \\\n",
       "0                    I know something about it   \n",
       "1                        I understand it fully   \n",
       "2          I have heard just a little about it   \n",
       "3          I have heard just a little about it   \n",
       "4          I have heard just a little about it   \n",
       "\n",
       "  question_bbi_2016wave4_basicincome_vote  \\\n",
       "0                        I would not vote   \n",
       "1            I would probably vote for it   \n",
       "2                        I would not vote   \n",
       "3            I would probably vote for it   \n",
       "4            I would probably vote for it   \n",
       "\n",
       "         question_bbi_2016wave4_basicincome_effect  \\\n",
       "0                                None of the above   \n",
       "1  A basic income would not affect my work choices   \n",
       "2                       ‰Û_ gain additional skills   \n",
       "3                                    ‰Û_ work less   \n",
       "4                                None of the above   \n",
       "\n",
       "     question_bbi_2016wave4_basicincome_argumentsfor  \\\n",
       "0                                  None of the above   \n",
       "1  It increases appreciation for household work a...   \n",
       "2            It creates more equality of opportunity   \n",
       "3     It reduces anxiety about financing basic needs   \n",
       "4     It reduces anxiety about financing basic needs   \n",
       "\n",
       "  question_bbi_2016wave4_basicincome_argumentsagainst  \n",
       "0                                  None of the above   \n",
       "1          It might encourage people to stop working   \n",
       "2  Foreigners might come to my country and take a...   \n",
       "3                                  None of the above   \n",
       "4  It is impossible to finance | It might encoura...   "
      ]
     },
     "metadata": {},
     "output_type": "display_data"
    }
   ],
   "source": [
    "tables_to_join = [df_personal_info, df_country_info, df_career_info, df_poll_info]\n",
    "jobs_complete = reduce(lambda left,right: pd.merge(left,right,on='uuid'), tables_to_join)\n",
    "display(jobs_complete.head())"
   ]
  },
  {
   "cell_type": "markdown",
   "metadata": {},
   "source": []
  },
  {
   "cell_type": "markdown",
   "metadata": {},
   "source": [
    "# GET DATA FROM API"
   ]
  },
  {
   "cell_type": "markdown",
   "metadata": {},
   "source": [
    "Some information related to career info table has to be extract from an API. \n",
    "In this table, the column \"normalized_job_code\" is filled with codes that represents different jobs.\n",
    "With the following code extracts the needed info from the API from the Open Skills Project and stores it in a dictionary."
   ]
  },
  {
   "cell_type": "markdown",
   "metadata": {},
   "source": [
    "Let's make a test of connection to the API"
   ]
  },
  {
   "cell_type": "code",
   "execution_count": 141,
   "metadata": {},
   "outputs": [
    {
     "data": {
      "text/plain": [
       "{'uuid': '861a9b9151e11362eb3c77ca914172d0',\n",
       " 'title': 'Automatic Data Processing Planner',\n",
       " 'normalized_job_title': 'automatic data processing planner',\n",
       " 'parent_uuid': '0148f61d4227497728ce33490843d056'}"
      ]
     },
     "execution_count": 141,
     "metadata": {},
     "output_type": "execute_result"
    }
   ],
   "source": [
    "#http://api.dataatwork.org/v1/jobs/\n",
    "base_url = 'http://api.dataatwork.org/v1/jobs/861a9b9151e11362eb3c77ca914172d0'\n",
    "response = requests.get(base_url)\n",
    "results = response.json()\n",
    "results"
   ]
  },
  {
   "cell_type": "markdown",
   "metadata": {},
   "source": [
    "A function is created to make a call to the API with every job code in our career table (list_job_codes previously obtained).\n",
    "The information obtain in each call (a dictionary) is stored in a list. Thus we obtain a list of dictionaries."
   ]
  },
  {
   "cell_type": "code",
   "execution_count": 143,
   "metadata": {},
   "outputs": [],
   "source": [
    "def create_api_list(list_job):\n",
    "    api_list = []\n",
    "    for x in list_job:\n",
    "        base_url = f'http://api.dataatwork.org/v1/jobs/{x}'\n",
    "        response = requests.get(base_url)\n",
    "        results = response.json()\n",
    "        api_list.append(results)\n",
    "    return api_list"
   ]
  },
  {
   "cell_type": "code",
   "execution_count": 144,
   "metadata": {},
   "outputs": [
    {
     "name": "stdout",
     "output_type": "stream",
     "text": [
      "{'uuid': 'd71c4164c99a5f9bca773e755a72f40f', 'title': 'Geographic Information Systems Database Administrator (GIS Database Administrator)', 'normalized_job_title': 'geographic information systems database administrator gis database administrator', 'parent_uuid': 'bab6b228ad976cd2624acbcfccb8ad9b'}\n"
     ]
    }
   ],
   "source": [
    "api_list = create_api_list(list_job_codes)\n",
    "print(api_list[5])"
   ]
  },
  {
   "cell_type": "markdown",
   "metadata": {},
   "source": [
    "The list of dictionaries is converted into a dataframe and then into a full dictionary, for easier access to information."
   ]
  },
  {
   "cell_type": "code",
   "execution_count": 145,
   "metadata": {},
   "outputs": [
    {
     "data": {
      "text/html": [
       "<div>\n",
       "<style scoped>\n",
       "    .dataframe tbody tr th:only-of-type {\n",
       "        vertical-align: middle;\n",
       "    }\n",
       "\n",
       "    .dataframe tbody tr th {\n",
       "        vertical-align: top;\n",
       "    }\n",
       "\n",
       "    .dataframe thead th {\n",
       "        text-align: right;\n",
       "    }\n",
       "</style>\n",
       "<table border=\"1\" class=\"dataframe\">\n",
       "  <thead>\n",
       "    <tr style=\"text-align: right;\">\n",
       "      <th></th>\n",
       "      <th>uuid</th>\n",
       "      <th>title</th>\n",
       "      <th>normalized_job_title</th>\n",
       "      <th>parent_uuid</th>\n",
       "    </tr>\n",
       "  </thead>\n",
       "  <tbody>\n",
       "    <tr>\n",
       "      <th>0</th>\n",
       "      <td>861a9b9151e11362eb3c77ca914172d0</td>\n",
       "      <td>Automatic Data Processing Planner</td>\n",
       "      <td>automatic data processing planner</td>\n",
       "      <td>0148f61d4227497728ce33490843d056</td>\n",
       "    </tr>\n",
       "    <tr>\n",
       "      <th>1</th>\n",
       "      <td>049a3f3a2b5f85cb2971ba77ad66e10c</td>\n",
       "      <td>Data Coordinator</td>\n",
       "      <td>data coordinator</td>\n",
       "      <td>0b9dd32a367f4562ec77b993053d1910</td>\n",
       "    </tr>\n",
       "    <tr>\n",
       "      <th>2</th>\n",
       "      <td>f4b2fb1aa40f661488e2782b6d57ad2f</td>\n",
       "      <td>Database Developer</td>\n",
       "      <td>database developer</td>\n",
       "      <td>b90ca4df5690002377a7b0f1f3d40781</td>\n",
       "    </tr>\n",
       "    <tr>\n",
       "      <th>3</th>\n",
       "      <td>27af8700f5577cec835acee2cb90a2ff</td>\n",
       "      <td>Data Entry Specialist</td>\n",
       "      <td>data entry specialist</td>\n",
       "      <td>bf88358c56bb6cbe7eabec38ae333d19</td>\n",
       "    </tr>\n",
       "    <tr>\n",
       "      <th>4</th>\n",
       "      <td>c1b670eba9ccb65e7c99f7da116d5b9c</td>\n",
       "      <td>Database Architect</td>\n",
       "      <td>database architect</td>\n",
       "      <td>596226d5f9ef63de41a852826d483d19</td>\n",
       "    </tr>\n",
       "    <tr>\n",
       "      <th>...</th>\n",
       "      <td>...</td>\n",
       "      <td>...</td>\n",
       "      <td>...</td>\n",
       "      <td>...</td>\n",
       "    </tr>\n",
       "    <tr>\n",
       "      <th>151</th>\n",
       "      <td>b0fa6ede410f50b82ab74f5a705fe699</td>\n",
       "      <td>Analytical Data Miner</td>\n",
       "      <td>analytical data miner</td>\n",
       "      <td>9656fa2dc39e9643c00a45858e0117d0</td>\n",
       "    </tr>\n",
       "    <tr>\n",
       "      <th>152</th>\n",
       "      <td>559a21f836c93876f31b60e6d10656a7</td>\n",
       "      <td>Data Analysis Assistant</td>\n",
       "      <td>data analysis assistant</td>\n",
       "      <td>325e2251e20170928426473156bd3c48</td>\n",
       "    </tr>\n",
       "    <tr>\n",
       "      <th>153</th>\n",
       "      <td>c1fb1a01b78373ac2153c66fa08d16dc</td>\n",
       "      <td>Data Examination Clerk</td>\n",
       "      <td>data examination clerk</td>\n",
       "      <td>da412504dd7b130414b7bbfa2acd563b</td>\n",
       "    </tr>\n",
       "    <tr>\n",
       "      <th>154</th>\n",
       "      <td>05bb9a333a66d6eb151e253623efe1c0</td>\n",
       "      <td>Data Entry Clerk</td>\n",
       "      <td>data entry clerk</td>\n",
       "      <td>bf88358c56bb6cbe7eabec38ae333d19</td>\n",
       "    </tr>\n",
       "    <tr>\n",
       "      <th>155</th>\n",
       "      <td>4cee16550636e292b8d136486fce943b</td>\n",
       "      <td>Data Capture Clerk</td>\n",
       "      <td>data capture clerk</td>\n",
       "      <td>bf88358c56bb6cbe7eabec38ae333d19</td>\n",
       "    </tr>\n",
       "  </tbody>\n",
       "</table>\n",
       "<p>156 rows × 4 columns</p>\n",
       "</div>"
      ],
      "text/plain": [
       "                                 uuid                              title  \\\n",
       "0    861a9b9151e11362eb3c77ca914172d0  Automatic Data Processing Planner   \n",
       "1    049a3f3a2b5f85cb2971ba77ad66e10c                   Data Coordinator   \n",
       "2    f4b2fb1aa40f661488e2782b6d57ad2f                 Database Developer   \n",
       "3    27af8700f5577cec835acee2cb90a2ff              Data Entry Specialist   \n",
       "4    c1b670eba9ccb65e7c99f7da116d5b9c                 Database Architect   \n",
       "..                                ...                                ...   \n",
       "151  b0fa6ede410f50b82ab74f5a705fe699              Analytical Data Miner   \n",
       "152  559a21f836c93876f31b60e6d10656a7            Data Analysis Assistant   \n",
       "153  c1fb1a01b78373ac2153c66fa08d16dc             Data Examination Clerk   \n",
       "154  05bb9a333a66d6eb151e253623efe1c0                   Data Entry Clerk   \n",
       "155  4cee16550636e292b8d136486fce943b                 Data Capture Clerk   \n",
       "\n",
       "                  normalized_job_title                       parent_uuid  \n",
       "0    automatic data processing planner  0148f61d4227497728ce33490843d056  \n",
       "1                     data coordinator  0b9dd32a367f4562ec77b993053d1910  \n",
       "2                   database developer  b90ca4df5690002377a7b0f1f3d40781  \n",
       "3                data entry specialist  bf88358c56bb6cbe7eabec38ae333d19  \n",
       "4                   database architect  596226d5f9ef63de41a852826d483d19  \n",
       "..                                 ...                               ...  \n",
       "151              analytical data miner  9656fa2dc39e9643c00a45858e0117d0  \n",
       "152            data analysis assistant  325e2251e20170928426473156bd3c48  \n",
       "153             data examination clerk  da412504dd7b130414b7bbfa2acd563b  \n",
       "154                   data entry clerk  bf88358c56bb6cbe7eabec38ae333d19  \n",
       "155                 data capture clerk  bf88358c56bb6cbe7eabec38ae333d19  \n",
       "\n",
       "[156 rows x 4 columns]"
      ]
     },
     "metadata": {},
     "output_type": "display_data"
    }
   ],
   "source": [
    "api_df = pd.DataFrame(api_list)\n",
    "display(api_df)"
   ]
  },
  {
   "cell_type": "code",
   "execution_count": 146,
   "metadata": {},
   "outputs": [],
   "source": [
    "jobs_dic = api_df.set_index('uuid').to_dict()['title']"
   ]
  },
  {
   "cell_type": "markdown",
   "metadata": {},
   "source": [
    "Using the dictionary, the table df_career_info can be completed, replacing the code by the job title."
   ]
  },
  {
   "cell_type": "code",
   "execution_count": 147,
   "metadata": {},
   "outputs": [
    {
     "data": {
      "text/html": [
       "<div>\n",
       "<style scoped>\n",
       "    .dataframe tbody tr th:only-of-type {\n",
       "        vertical-align: middle;\n",
       "    }\n",
       "\n",
       "    .dataframe tbody tr th {\n",
       "        vertical-align: top;\n",
       "    }\n",
       "\n",
       "    .dataframe thead th {\n",
       "        text-align: right;\n",
       "    }\n",
       "</style>\n",
       "<table border=\"1\" class=\"dataframe\">\n",
       "  <thead>\n",
       "    <tr style=\"text-align: right;\">\n",
       "      <th></th>\n",
       "      <th>uuid</th>\n",
       "      <th>dem_education_level</th>\n",
       "      <th>dem_full_time_job</th>\n",
       "      <th>normalized_job_code</th>\n",
       "    </tr>\n",
       "  </thead>\n",
       "  <tbody>\n",
       "    <tr>\n",
       "      <th>0</th>\n",
       "      <td>f6e7ee00-deac-0133-4de8-0a81e8b09a82</td>\n",
       "      <td>no</td>\n",
       "      <td>no</td>\n",
       "      <td>None</td>\n",
       "    </tr>\n",
       "    <tr>\n",
       "      <th>1</th>\n",
       "      <td>54f0f1c0-dda1-0133-a559-0a81e8b09a82</td>\n",
       "      <td>high</td>\n",
       "      <td>yes</td>\n",
       "      <td>Automatic Data Processing Planner</td>\n",
       "    </tr>\n",
       "    <tr>\n",
       "      <th>2</th>\n",
       "      <td>83127080-da3d-0133-c74f-0a81e8b09a82</td>\n",
       "      <td>None</td>\n",
       "      <td>no</td>\n",
       "      <td>None</td>\n",
       "    </tr>\n",
       "    <tr>\n",
       "      <th>3</th>\n",
       "      <td>15626d40-db13-0133-ea5c-0a81e8b09a82</td>\n",
       "      <td>high</td>\n",
       "      <td>yes</td>\n",
       "      <td>Data Coordinator</td>\n",
       "    </tr>\n",
       "    <tr>\n",
       "      <th>4</th>\n",
       "      <td>24954a70-db98-0133-4a64-0a81e8b09a82</td>\n",
       "      <td>high</td>\n",
       "      <td>yes</td>\n",
       "      <td>Database Developer</td>\n",
       "    </tr>\n",
       "    <tr>\n",
       "      <th>...</th>\n",
       "      <td>...</td>\n",
       "      <td>...</td>\n",
       "      <td>...</td>\n",
       "      <td>...</td>\n",
       "    </tr>\n",
       "    <tr>\n",
       "      <th>9644</th>\n",
       "      <td>7d1ac020-dcb4-0133-817a-0a81e8b09a82</td>\n",
       "      <td>high</td>\n",
       "      <td>yes</td>\n",
       "      <td>Data Warehouse Developer</td>\n",
       "    </tr>\n",
       "    <tr>\n",
       "      <th>9645</th>\n",
       "      <td>39f989f0-db52-0133-8482-0a81e8b09a82</td>\n",
       "      <td>high</td>\n",
       "      <td>yes</td>\n",
       "      <td>Database Manager</td>\n",
       "    </tr>\n",
       "    <tr>\n",
       "      <th>9646</th>\n",
       "      <td>70ce4a90-d965-0133-f5e4-0a81e8b09a82</td>\n",
       "      <td>low</td>\n",
       "      <td>no</td>\n",
       "      <td>None</td>\n",
       "    </tr>\n",
       "    <tr>\n",
       "      <th>9647</th>\n",
       "      <td>2896e440-db3c-0133-5b67-0a81e8b09a82</td>\n",
       "      <td>low</td>\n",
       "      <td>yes</td>\n",
       "      <td>Data Officer</td>\n",
       "    </tr>\n",
       "    <tr>\n",
       "      <th>9648</th>\n",
       "      <td>06217ba0-dd56-0133-edda-0a81e8b09a82</td>\n",
       "      <td>high</td>\n",
       "      <td>yes</td>\n",
       "      <td>Data Scientist</td>\n",
       "    </tr>\n",
       "  </tbody>\n",
       "</table>\n",
       "<p>9649 rows × 4 columns</p>\n",
       "</div>"
      ],
      "text/plain": [
       "                                      uuid dem_education_level  \\\n",
       "0     f6e7ee00-deac-0133-4de8-0a81e8b09a82                  no   \n",
       "1     54f0f1c0-dda1-0133-a559-0a81e8b09a82                high   \n",
       "2     83127080-da3d-0133-c74f-0a81e8b09a82                None   \n",
       "3     15626d40-db13-0133-ea5c-0a81e8b09a82                high   \n",
       "4     24954a70-db98-0133-4a64-0a81e8b09a82                high   \n",
       "...                                    ...                 ...   \n",
       "9644  7d1ac020-dcb4-0133-817a-0a81e8b09a82                high   \n",
       "9645  39f989f0-db52-0133-8482-0a81e8b09a82                high   \n",
       "9646  70ce4a90-d965-0133-f5e4-0a81e8b09a82                 low   \n",
       "9647  2896e440-db3c-0133-5b67-0a81e8b09a82                 low   \n",
       "9648  06217ba0-dd56-0133-edda-0a81e8b09a82                high   \n",
       "\n",
       "     dem_full_time_job                normalized_job_code  \n",
       "0                   no                               None  \n",
       "1                  yes  Automatic Data Processing Planner  \n",
       "2                   no                               None  \n",
       "3                  yes                   Data Coordinator  \n",
       "4                  yes                 Database Developer  \n",
       "...                ...                                ...  \n",
       "9644               yes           Data Warehouse Developer  \n",
       "9645               yes                   Database Manager  \n",
       "9646                no                               None  \n",
       "9647               yes                       Data Officer  \n",
       "9648               yes                     Data Scientist  \n",
       "\n",
       "[9649 rows x 4 columns]"
      ]
     },
     "execution_count": 147,
     "metadata": {},
     "output_type": "execute_result"
    }
   ],
   "source": [
    "df_career_info.replace({\"normalized_job_code\": jobs_dic})"
   ]
  },
  {
   "cell_type": "code",
   "execution_count": 148,
   "metadata": {},
   "outputs": [
    {
     "ename": "SyntaxError",
     "evalue": "unexpected EOF while parsing (<ipython-input-148-d73523121758>, line 5)",
     "output_type": "error",
     "traceback": [
      "\u001b[0;36m  File \u001b[0;32m\"<ipython-input-148-d73523121758>\"\u001b[0;36m, line \u001b[0;32m5\u001b[0m\n\u001b[0;31m    \u001b[0m\n\u001b[0m    ^\u001b[0m\n\u001b[0;31mSyntaxError\u001b[0m\u001b[0;31m:\u001b[0m unexpected EOF while parsing\n"
     ]
    }
   ],
   "source": [
    "def clean_jobs(table_jobs, api_df):\n",
    "    for x in table_jobs['normalized_job_code']:\n",
    "        if x != None:\n",
    "            \n",
    "    "
   ]
  },
  {
   "cell_type": "code",
   "execution_count": 180,
   "metadata": {},
   "outputs": [],
   "source": [
    "test_dict = {'table1': 1, 'table2': 2, 'table3': 3, 'table4': 4}"
   ]
  },
  {
   "cell_type": "code",
   "execution_count": 181,
   "metadata": {},
   "outputs": [],
   "source": [
    "def join_tables(test_dict):\n",
    "    tables_list = list(test_dict.keys())\n",
    "    print(tables_list)\n",
    "    tables_dict_list = [f'tables_dict[{x}]' for x in tables_list]\n",
    "    \n",
    "    return tables_dict_list"
   ]
  },
  {
   "cell_type": "code",
   "execution_count": 182,
   "metadata": {},
   "outputs": [
    {
     "name": "stdout",
     "output_type": "stream",
     "text": [
      "['table1', 'table2', 'table3', 'table4']\n"
     ]
    },
    {
     "data": {
      "text/plain": [
       "['tables_dict[table1]',\n",
       " 'tables_dict[table2]',\n",
       " 'tables_dict[table3]',\n",
       " 'tables_dict[table4]']"
      ]
     },
     "execution_count": 182,
     "metadata": {},
     "output_type": "execute_result"
    }
   ],
   "source": [
    "join_tables(test_dict)"
   ]
  },
  {
   "cell_type": "code",
   "execution_count": null,
   "metadata": {},
   "outputs": [],
   "source": [
    "table_complete = reduce(lambda left, right: pd.merge(left, right, on='uuid'), tables_list)"
   ]
  },
  {
   "cell_type": "code",
   "execution_count": null,
   "metadata": {},
   "outputs": [],
   "source": []
  },
  {
   "cell_type": "code",
   "execution_count": null,
   "metadata": {},
   "outputs": [],
   "source": [
    "db_dic ={}\n",
    "for name in db_raw_list:\n",
    "    print(name)\n",
    "    db_dic[f'db_{name}'] = pd.read_sql_query(\"select * FROM {name}\".format(name = name), engine)\n",
    "display(db_dic['db_personal_info'])"
   ]
  },
  {
   "cell_type": "code",
   "execution_count": null,
   "metadata": {},
   "outputs": [],
   "source": []
  },
  {
   "cell_type": "code",
   "execution_count": null,
   "metadata": {},
   "outputs": [],
   "source": []
  },
  {
   "cell_type": "code",
   "execution_count": null,
   "metadata": {},
   "outputs": [],
   "source": []
  }
 ],
 "metadata": {
  "kernelspec": {
   "display_name": "Python 3",
   "language": "python",
   "name": "python3"
  },
  "language_info": {
   "codemirror_mode": {
    "name": "ipython",
    "version": 3
   },
   "file_extension": ".py",
   "mimetype": "text/x-python",
   "name": "python",
   "nbconvert_exporter": "python",
   "pygments_lexer": "ipython3",
   "version": "3.8.5"
  }
 },
 "nbformat": 4,
 "nbformat_minor": 4
}
